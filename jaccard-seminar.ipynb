{
  "cells": [
    {
      "cell_type": "markdown",
      "metadata": {
        "id": "t8FIaSEY2XtS"
      },
      "source": [
        "# Jaccard similarity \n",
        "\n",
        "We discussed Jaccard similarity during the lecture and approach to calculate it on MapReduce\n",
        "\n",
        "1. How many pairs have <>0 Jaccard similarity (we calc (a,b), (b,a) and (a,a) pairs)?\n",
        "2. Find top 5 artists most similar to \"Maroon 5\" by Jaccard similarity."
      ]
    },
    {
      "cell_type": "code",
      "execution_count": null,
      "metadata": {
        "id": "HpGAb57Q2Xu6"
      },
      "outputs": [],
      "source": [
        "import findspark\n",
        "findspark.init()\n",
        "\n",
        "import sys\n",
        "\n",
        "from pyspark import SparkContext, SparkConf\n",
        "from pyspark.sql import SparkSession\n",
        "sc = SparkContext(appName=\"Jaccard\")\n",
        "se = SparkSession(sc)"
      ]
    },
    {
      "cell_type": "code",
      "execution_count": null,
      "metadata": {
        "id": "rnfNdwuZkydX"
      },
      "outputs": [],
      "source": [
        "# ! aws s3 cp s3://ydatazian/yandex_music yandex_music --recursive\n",
        "# ! hadoop fs -copyFromLocal yandex_music /\n",
        "# ! hadoop fs -ls -h /yandex_music"
      ]
    },
    {
      "cell_type": "code",
      "execution_count": null,
      "metadata": {
        "id": "QfD7m6-52XvP",
        "outputId": "ac47f774-8291-4d7b-d776-88f739b74c31"
      },
      "outputs": [
        {
          "data": {
            "text/html": [
              "<div>\n",
              "<style scoped>\n",
              "    .dataframe tbody tr th:only-of-type {\n",
              "        vertical-align: middle;\n",
              "    }\n",
              "\n",
              "    .dataframe tbody tr th {\n",
              "        vertical-align: top;\n",
              "    }\n",
              "\n",
              "    .dataframe thead th {\n",
              "        text-align: right;\n",
              "    }\n",
              "</style>\n",
              "<table border=\"1\" class=\"dataframe\">\n",
              "  <thead>\n",
              "    <tr style=\"text-align: right;\">\n",
              "      <th></th>\n",
              "      <th>artistId</th>\n",
              "      <th>artistName</th>\n",
              "    </tr>\n",
              "  </thead>\n",
              "  <tbody>\n",
              "    <tr>\n",
              "      <th>0</th>\n",
              "      <td>0</td>\n",
              "      <td>Mack Gordon</td>\n",
              "    </tr>\n",
              "    <tr>\n",
              "      <th>1</th>\n",
              "      <td>1</td>\n",
              "      <td>Kenny Dorham</td>\n",
              "    </tr>\n",
              "    <tr>\n",
              "      <th>2</th>\n",
              "      <td>2</td>\n",
              "      <td>Max Roach</td>\n",
              "    </tr>\n",
              "    <tr>\n",
              "      <th>3</th>\n",
              "      <td>3</td>\n",
              "      <td>Francis Rossi</td>\n",
              "    </tr>\n",
              "    <tr>\n",
              "      <th>4</th>\n",
              "      <td>4</td>\n",
              "      <td>Status Quo</td>\n",
              "    </tr>\n",
              "  </tbody>\n",
              "</table>\n",
              "</div>"
            ],
            "text/plain": [
              "   artistId     artistName\n",
              "0         0    Mack Gordon\n",
              "1         1   Kenny Dorham\n",
              "2         2      Max Roach\n",
              "3         3  Francis Rossi\n",
              "4         4     Status Quo"
            ]
          },
          "execution_count": 2,
          "metadata": {},
          "output_type": "execute_result"
        }
      ],
      "source": [
        "artists = se.read.json(\"hdfs:///yandex_music/artists.jsonl\")\n",
        "artists.registerTempTable(\"artists\")\n",
        "artists.limit(5).toPandas()"
      ]
    },
    {
      "cell_type": "code",
      "execution_count": null,
      "metadata": {
        "id": "NevjMeWx2XxY",
        "outputId": "d96ce9f1-f283-479b-baa9-6af062baa922"
      },
      "outputs": [
        {
          "data": {
            "text/html": [
              "<div>\n",
              "<style scoped>\n",
              "    .dataframe tbody tr th:only-of-type {\n",
              "        vertical-align: middle;\n",
              "    }\n",
              "\n",
              "    .dataframe tbody tr th {\n",
              "        vertical-align: top;\n",
              "    }\n",
              "\n",
              "    .dataframe thead th {\n",
              "        text-align: right;\n",
              "    }\n",
              "</style>\n",
              "<table border=\"1\" class=\"dataframe\">\n",
              "  <thead>\n",
              "    <tr style=\"text-align: right;\">\n",
              "      <th></th>\n",
              "      <th>userId</th>\n",
              "      <th>artistId</th>\n",
              "      <th>plays</th>\n",
              "      <th>skips</th>\n",
              "    </tr>\n",
              "  </thead>\n",
              "  <tbody>\n",
              "    <tr>\n",
              "      <th>0</th>\n",
              "      <td>0</td>\n",
              "      <td>335</td>\n",
              "      <td>1</td>\n",
              "      <td>0</td>\n",
              "    </tr>\n",
              "    <tr>\n",
              "      <th>1</th>\n",
              "      <td>0</td>\n",
              "      <td>708</td>\n",
              "      <td>1</td>\n",
              "      <td>0</td>\n",
              "    </tr>\n",
              "    <tr>\n",
              "      <th>2</th>\n",
              "      <td>0</td>\n",
              "      <td>710</td>\n",
              "      <td>2</td>\n",
              "      <td>1</td>\n",
              "    </tr>\n",
              "    <tr>\n",
              "      <th>3</th>\n",
              "      <td>0</td>\n",
              "      <td>815</td>\n",
              "      <td>1</td>\n",
              "      <td>1</td>\n",
              "    </tr>\n",
              "    <tr>\n",
              "      <th>4</th>\n",
              "      <td>0</td>\n",
              "      <td>880</td>\n",
              "      <td>1</td>\n",
              "      <td>1</td>\n",
              "    </tr>\n",
              "  </tbody>\n",
              "</table>\n",
              "</div>"
            ],
            "text/plain": [
              "   userId  artistId  plays  skips\n",
              "0       0       335      1      0\n",
              "1       0       708      1      0\n",
              "2       0       710      2      1\n",
              "3       0       815      1      1\n",
              "4       0       880      1      1"
            ]
          },
          "execution_count": 3,
          "metadata": {},
          "output_type": "execute_result"
        }
      ],
      "source": [
        "events = se.read.csv(\"hdfs:///yandex_music/events.csv\", header=True, \n",
        "                     schema='userId bigint, artistId bigint, plays INT, skips INT')\n",
        "events.registerTempTable(\"events\")\n",
        "events.limit(5).toPandas()"
      ]
    },
    {
      "cell_type": "code",
      "execution_count": null,
      "metadata": {
        "id": "d1YW7myt2Xxi",
        "outputId": "39415e9d-46b6-40be-c9d7-109178709c2a"
      },
      "outputs": [
        {
          "name": "stdout",
          "output_type": "stream",
          "text": [
            "CPU times: user 35.6 ms, sys: 1.33 ms, total: 36.9 ms\n",
            "Wall time: 6.58 s\n"
          ]
        }
      ],
      "source": [
        "%%time\n",
        "count_by_artist = (\n",
        "    events.rdd\n",
        "    .filter(lambda x: x.plays > 2)\n",
        "    .map(lambda x: (x.artistId, 1))\n",
        "    .reduceByKey(lambda a, b: a + b)\n",
        "    .collect()\n",
        ")\n",
        "\n",
        "count_by_artist = {a: c for a, c in count_by_artist}"
      ]
    },
    {
      "cell_type": "code",
      "execution_count": null,
      "metadata": {
        "id": "zuIGLPi92Xxm",
        "outputId": "de0243d7-a046-4796-99dc-2bcfc3438170"
      },
      "outputs": [
        {
          "name": "stdout",
          "output_type": "stream",
          "text": [
            "28908\n",
            "2889\n"
          ]
        }
      ],
      "source": [
        "print(len(count_by_artist))\n",
        "print(sum(1 if v > 50 else 0 for v in count_by_artist.values()))"
      ]
    },
    {
      "cell_type": "code",
      "execution_count": null,
      "metadata": {
        "id": "YQKCE6xi2Xxq",
        "outputId": "583649b8-ab96-49e0-f944-3809bb7c5eb1"
      },
      "outputs": [
        {
          "name": "stdout",
          "output_type": "stream",
          "text": [
            "rm: `hdfs:///jaccard.pickle': No such file or directory\n",
            "CPU times: user 245 ms, sys: 20.3 ms, total: 265 ms\n",
            "Wall time: 1min 27s\n"
          ]
        }
      ],
      "source": [
        "%%time\n",
        "! hadoop fs -rm -r hdfs:///jaccard.pickle\n",
        "\n",
        "def generate_pairs(x):\n",
        "    return [((a1, a2), 1) for a1 in x for a2 in x]\n",
        "\n",
        "jaccard_by_pair = (\n",
        "    events.rdd\n",
        "    .filter(lambda x: x.plays > 2 and count_by_artist[x.artistId] > 50)\n",
        "    .map(lambda x: (x.userId, x.artistId))\n",
        "    .groupByKey(numPartitions=100)\n",
        "    .flatMap(lambda x: generate_pairs(list(x[1])))\n",
        "    .reduceByKey(lambda a, b: a + b)\n",
        "    .map(lambda x: (x[0], float(x[1]) / (count_by_artist[x[0][0]] + count_by_artist[x[0][1]] - x[1])))\n",
        ")\n",
        "\n",
        "jaccard_by_pair.saveAsPickleFile(\"hdfs:///jaccard.pickle\")"
      ]
    },
    {
      "cell_type": "code",
      "execution_count": null,
      "metadata": {
        "id": "AA1FHwhk2X1R",
        "outputId": "dea42b46-9538-4690-d3f7-8633a41bda7b"
      },
      "outputs": [
        {
          "name": "stdout",
          "output_type": "stream",
          "text": [
            "6838579\n"
          ]
        },
        {
          "data": {
            "text/plain": [
              "[((709, 70609), 0.13356973995271867), ((876, 61198), 0.044416243654822336)]"
            ]
          },
          "execution_count": 7,
          "metadata": {},
          "output_type": "execute_result"
        }
      ],
      "source": [
        "jaccard_by_pair = sc.pickleFile(\"hdfs:///jaccard.pickle\")\n",
        "print(jaccard_by_pair.count())\n",
        "jaccard_by_pair.take(2)"
      ]
    },
    {
      "cell_type": "code",
      "execution_count": null,
      "metadata": {
        "id": "ATn8QES22X5y",
        "outputId": "8d025c5e-4a10-414b-def1-43eb4a7f350e"
      },
      "outputs": [
        {
          "name": "stdout",
          "output_type": "stream",
          "text": [
            "+--------+----------+\n",
            "|artistId|artistName|\n",
            "+--------+----------+\n",
            "|   14803|  Maroon 5|\n",
            "+--------+----------+\n",
            "\n"
          ]
        }
      ],
      "source": [
        "artists.filter(artists.artistName == \"Maroon 5\").show()"
      ]
    },
    {
      "cell_type": "code",
      "execution_count": null,
      "metadata": {
        "id": "FR1hCjtD2YH-"
      },
      "outputs": [],
      "source": [
        "artist_to_name = {}\n",
        "for row in artists.collect():\n",
        "    artist_to_name[row.artistId] = row.artistName"
      ]
    },
    {
      "cell_type": "code",
      "execution_count": null,
      "metadata": {
        "id": "-kTGl_vv2YIE"
      },
      "outputs": [],
      "source": [
        "# most similar by Jaccard for Maroon 5\n",
        "similar = (\n",
        "    jaccard_by_pair\n",
        "    .filter(lambda x: x[0][0] == 14803)\n",
        "    .collect()\n",
        ")"
      ]
    },
    {
      "cell_type": "code",
      "execution_count": null,
      "metadata": {
        "id": "_tjK4tAR2YII",
        "outputId": "f572bb9c-837f-425e-c045-92058e90fb1a"
      },
      "outputs": [
        {
          "name": "stdout",
          "output_type": "stream",
          "text": [
            "Maroon 5 1.0\n",
            "OneRepublic 0.3319755600814664\n",
            "Sia 0.31266017426960535\n",
            "David Guetta 0.29184782608695653\n",
            "Bruno Mars 0.2867448151487827\n",
            "Calvin Harris 0.2858903265557609\n",
            "Imagine Dragons 0.28221597751906863\n",
            "Ed Sheeran 0.2798199549887472\n",
            "Coldplay 0.2794561933534743\n",
            "Sam Smith 0.27321981424148606\n"
          ]
        }
      ],
      "source": [
        "for (artist, other), j in sorted(similar, key=lambda x: -x[1])[:10]:\n",
        "    print(artist_to_name[other], j)"
      ]
    },
    {
      "cell_type": "code",
      "execution_count": null,
      "metadata": {
        "id": "6Eb2G5K_2YIS"
      },
      "outputs": [],
      "source": []
    }
  ],
  "metadata": {
    "colab": {
      "provenance": []
    },
    "kernelspec": {
      "display_name": "Python 3.10.0 64-bit ('3.10.0')",
      "language": "python",
      "name": "python3"
    },
    "language_info": {
      "codemirror_mode": {
        "name": "ipython",
        "version": 3
      },
      "file_extension": ".py",
      "mimetype": "text/x-python",
      "name": "python",
      "nbconvert_exporter": "python",
      "pygments_lexer": "ipython3",
      "version": "3.10.0"
    },
    "vscode": {
      "interpreter": {
        "hash": "5f4626d50a060da4b47e18776c852ab1c193f00f2162881a84608752df882344"
      }
    }
  },
  "nbformat": 4,
  "nbformat_minor": 0
}
