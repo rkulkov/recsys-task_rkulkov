{
  "cells": [
    {
      "cell_type": "markdown",
      "metadata": {
        "id": "dzoTKl4qkyRy"
      },
      "source": [
        "# Create SparkContext, SparkSession\n",
        "\n",
        "https://spark.apache.org/docs/latest/rdd-programming-guide.html\n",
        "\n",
        "http://spark.apache.org/docs/latest/sql-getting-started.html"
      ]
    },
    {
      "cell_type": "code",
      "execution_count": null,
      "metadata": {
        "id": "TzIdTLgikyR8"
      },
      "outputs": [],
      "source": [
        "import findspark\n",
        "findspark.init()\n",
        "\n",
        "from pyspark import SparkContext, SparkConf\n",
        "from pyspark.sql import SparkSession\n",
        "sc = SparkContext(appName=\"RecSys\")\n",
        "se = SparkSession(sc)\n"
      ]
    },
    {
      "cell_type": "code",
      "execution_count": null,
      "metadata": {
        "id": "H0nEitJOkyR9"
      },
      "outputs": [],
      "source": [
        "! aws s3 cp s3://ydatazian/yandex_music yandex_music --recursive"
      ]
    },
    {
      "cell_type": "markdown",
      "metadata": {
        "id": "bUTjLHPukyR-"
      },
      "source": [
        "# Yandex.Music dataset"
      ]
    },
    {
      "cell_type": "code",
      "execution_count": null,
      "metadata": {
        "id": "T11fzUYfkyR-",
        "outputId": "91aab88d-354d-4a2d-8814-262868709209"
      },
      "outputs": [
        {
          "name": "stdout",
          "output_type": "stream",
          "text": [
            "total 52M\r\n",
            "-rw-rw-r-- 1 hadoop hadoop 3.7M Jun  4 08:13 artists.jsonl\r\n",
            "-rw-rw-r-- 1 hadoop hadoop  48M Jun  4 08:10 events.csv\r\n",
            "-rw-rw-r-- 1 hadoop hadoop  254 Jun  4 08:13 README.txt\r\n"
          ]
        }
      ],
      "source": [
        "! ls -lh yandex_music"
      ]
    },
    {
      "cell_type": "code",
      "execution_count": null,
      "metadata": {
        "id": "t9ijnMAmkyR_",
        "outputId": "6d2be4af-95ab-4f29-b477-2d560a745225",
        "scrolled": false
      },
      "outputs": [
        {
          "name": "stdout",
          "output_type": "stream",
          "text": [
            "{\"artistId\":0,\"artistName\":\"Mack Gordon\"}\r\n",
            "{\"artistId\":1,\"artistName\":\"Kenny Dorham\"}\r\n",
            "{\"artistId\":2,\"artistName\":\"Max Roach\"}\r\n",
            "{\"artistId\":3,\"artistName\":\"Francis Rossi\"}\r\n",
            "{\"artistId\":4,\"artistName\":\"Status Quo\"}\r\n"
          ]
        }
      ],
      "source": [
        "! head -n 5 yandex_music/artists.jsonl"
      ]
    },
    {
      "cell_type": "code",
      "execution_count": null,
      "metadata": {
        "id": "ERMUkicJkySA",
        "outputId": "95585834-a943-47cc-a602-c156cb80c447"
      },
      "outputs": [
        {
          "name": "stdout",
          "output_type": "stream",
          "text": [
            "userId,artistId,plays,skips\r\n",
            "0,335,1,0\r\n",
            "0,708,1,0\r\n",
            "0,710,2,1\r\n",
            "0,815,1,1\r\n"
          ]
        }
      ],
      "source": [
        "! head -n 5 yandex_music/events.csv"
      ]
    },
    {
      "cell_type": "markdown",
      "metadata": {
        "id": "Eaasg9OokySB"
      },
      "source": [
        "# Copy data to HDFS"
      ]
    },
    {
      "cell_type": "code",
      "execution_count": null,
      "metadata": {
        "id": "zctrI619kySC",
        "outputId": "043a914d-9785-4a47-f6eb-77b29b58b7d5"
      },
      "outputs": [
        {
          "name": "stdout",
          "output_type": "stream",
          "text": [
            "copyFromLocal: `/yandex_music/README.txt': File exists\r\n",
            "copyFromLocal: `/yandex_music/artists.jsonl': File exists\r\n",
            "copyFromLocal: `/yandex_music/events.csv': File exists\r\n"
          ]
        }
      ],
      "source": [
        "! hadoop fs -copyFromLocal yandex_music /"
      ]
    },
    {
      "cell_type": "code",
      "execution_count": null,
      "metadata": {
        "id": "a7eU8D4fkySC",
        "outputId": "0ee81491-9b9c-4d14-c682-1885f6c0d2fe"
      },
      "outputs": [
        {
          "name": "stdout",
          "output_type": "stream",
          "text": [
            "Found 3 items\r\n",
            "-rw-r--r--   1 hadoop hadoop        254 2021-06-04 08:14 /yandex_music/README.txt\r\n",
            "-rw-r--r--   1 hadoop hadoop      3.7 M 2021-06-04 08:14 /yandex_music/artists.jsonl\r\n",
            "-rw-r--r--   1 hadoop hadoop     47.6 M 2021-06-04 08:14 /yandex_music/events.csv\r\n"
          ]
        }
      ],
      "source": [
        "! hadoop fs -ls -h /yandex_music"
      ]
    },
    {
      "cell_type": "markdown",
      "metadata": {
        "id": "d5FhjfDUkySD"
      },
      "source": [
        "# Load dataset"
      ]
    },
    {
      "cell_type": "code",
      "execution_count": null,
      "metadata": {
        "id": "ISJskJC3kySD",
        "outputId": "30b19909-a666-4a56-e3a0-b094d5c6119d"
      },
      "outputs": [
        {
          "data": {
            "text/html": [
              "<div>\n",
              "<style scoped>\n",
              "    .dataframe tbody tr th:only-of-type {\n",
              "        vertical-align: middle;\n",
              "    }\n",
              "\n",
              "    .dataframe tbody tr th {\n",
              "        vertical-align: top;\n",
              "    }\n",
              "\n",
              "    .dataframe thead th {\n",
              "        text-align: right;\n",
              "    }\n",
              "</style>\n",
              "<table border=\"1\" class=\"dataframe\">\n",
              "  <thead>\n",
              "    <tr style=\"text-align: right;\">\n",
              "      <th></th>\n",
              "      <th>artistId</th>\n",
              "      <th>artistName</th>\n",
              "    </tr>\n",
              "  </thead>\n",
              "  <tbody>\n",
              "    <tr>\n",
              "      <th>0</th>\n",
              "      <td>0</td>\n",
              "      <td>Mack Gordon</td>\n",
              "    </tr>\n",
              "    <tr>\n",
              "      <th>1</th>\n",
              "      <td>1</td>\n",
              "      <td>Kenny Dorham</td>\n",
              "    </tr>\n",
              "    <tr>\n",
              "      <th>2</th>\n",
              "      <td>2</td>\n",
              "      <td>Max Roach</td>\n",
              "    </tr>\n",
              "    <tr>\n",
              "      <th>3</th>\n",
              "      <td>3</td>\n",
              "      <td>Francis Rossi</td>\n",
              "    </tr>\n",
              "    <tr>\n",
              "      <th>4</th>\n",
              "      <td>4</td>\n",
              "      <td>Status Quo</td>\n",
              "    </tr>\n",
              "  </tbody>\n",
              "</table>\n",
              "</div>"
            ],
            "text/plain": [
              "   artistId     artistName\n",
              "0         0    Mack Gordon\n",
              "1         1   Kenny Dorham\n",
              "2         2      Max Roach\n",
              "3         3  Francis Rossi\n",
              "4         4     Status Quo"
            ]
          },
          "execution_count": 7,
          "metadata": {},
          "output_type": "execute_result"
        }
      ],
      "source": [
        "artists = se.read.json(\"hdfs:///yandex_music/artists.jsonl\")\n",
        "artists.registerTempTable(\"artists\")\n",
        "artists.limit(5).toPandas()"
      ]
    },
    {
      "cell_type": "code",
      "execution_count": null,
      "metadata": {
        "id": "SbHpoxfHkySE",
        "outputId": "cccda198-067b-4bc7-84ba-168008cfa1f8"
      },
      "outputs": [
        {
          "data": {
            "text/html": [
              "<div>\n",
              "<style scoped>\n",
              "    .dataframe tbody tr th:only-of-type {\n",
              "        vertical-align: middle;\n",
              "    }\n",
              "\n",
              "    .dataframe tbody tr th {\n",
              "        vertical-align: top;\n",
              "    }\n",
              "\n",
              "    .dataframe thead th {\n",
              "        text-align: right;\n",
              "    }\n",
              "</style>\n",
              "<table border=\"1\" class=\"dataframe\">\n",
              "  <thead>\n",
              "    <tr style=\"text-align: right;\">\n",
              "      <th></th>\n",
              "      <th>userId</th>\n",
              "      <th>artistId</th>\n",
              "      <th>plays</th>\n",
              "      <th>skips</th>\n",
              "    </tr>\n",
              "  </thead>\n",
              "  <tbody>\n",
              "    <tr>\n",
              "      <th>0</th>\n",
              "      <td>0</td>\n",
              "      <td>335</td>\n",
              "      <td>1</td>\n",
              "      <td>0</td>\n",
              "    </tr>\n",
              "    <tr>\n",
              "      <th>1</th>\n",
              "      <td>0</td>\n",
              "      <td>708</td>\n",
              "      <td>1</td>\n",
              "      <td>0</td>\n",
              "    </tr>\n",
              "    <tr>\n",
              "      <th>2</th>\n",
              "      <td>0</td>\n",
              "      <td>710</td>\n",
              "      <td>2</td>\n",
              "      <td>1</td>\n",
              "    </tr>\n",
              "    <tr>\n",
              "      <th>3</th>\n",
              "      <td>0</td>\n",
              "      <td>815</td>\n",
              "      <td>1</td>\n",
              "      <td>1</td>\n",
              "    </tr>\n",
              "    <tr>\n",
              "      <th>4</th>\n",
              "      <td>0</td>\n",
              "      <td>880</td>\n",
              "      <td>1</td>\n",
              "      <td>1</td>\n",
              "    </tr>\n",
              "  </tbody>\n",
              "</table>\n",
              "</div>"
            ],
            "text/plain": [
              "   userId  artistId  plays  skips\n",
              "0       0       335      1      0\n",
              "1       0       708      1      0\n",
              "2       0       710      2      1\n",
              "3       0       815      1      1\n",
              "4       0       880      1      1"
            ]
          },
          "execution_count": 8,
          "metadata": {},
          "output_type": "execute_result"
        }
      ],
      "source": [
        "events = se.read.csv(\"hdfs:///yandex_music/events.csv\", header=True, \n",
        "                     schema='userId bigint, artistId bigint, plays INT, skips INT')\n",
        "events.registerTempTable(\"events\")\n",
        "events.limit(5).toPandas()"
      ]
    },
    {
      "cell_type": "code",
      "execution_count": null,
      "metadata": {
        "id": "3OhE8s_TkySF",
        "outputId": "c387b71f-9306-4ebb-ba6e-b5ca61ae76ea"
      },
      "outputs": [
        {
          "data": {
            "text/html": [
              "<div>\n",
              "<style scoped>\n",
              "    .dataframe tbody tr th:only-of-type {\n",
              "        vertical-align: middle;\n",
              "    }\n",
              "\n",
              "    .dataframe tbody tr th {\n",
              "        vertical-align: top;\n",
              "    }\n",
              "\n",
              "    .dataframe thead th {\n",
              "        text-align: right;\n",
              "    }\n",
              "</style>\n",
              "<table border=\"1\" class=\"dataframe\">\n",
              "  <thead>\n",
              "    <tr style=\"text-align: right;\">\n",
              "      <th></th>\n",
              "      <th>users</th>\n",
              "      <th>artists</th>\n",
              "      <th>interactions</th>\n",
              "      <th>density</th>\n",
              "    </tr>\n",
              "  </thead>\n",
              "  <tbody>\n",
              "    <tr>\n",
              "      <th>0</th>\n",
              "      <td>4999</td>\n",
              "      <td>53031</td>\n",
              "      <td>3412504</td>\n",
              "      <td>0.012872</td>\n",
              "    </tr>\n",
              "  </tbody>\n",
              "</table>\n",
              "</div>"
            ],
            "text/plain": [
              "   users  artists  interactions   density\n",
              "0   4999    53031       3412504  0.012872"
            ]
          },
          "execution_count": 9,
          "metadata": {},
          "output_type": "execute_result"
        }
      ],
      "source": [
        "# statistics\n",
        "se.sql(\"\"\"\n",
        "select\n",
        "    count(distinct userId) as users,\n",
        "    count(distinct artistId) as artists,\n",
        "    count(*) as interactions,\n",
        "    count(*) / (count(distinct userId) * count(distinct artistId)) as density\n",
        "from \n",
        "    events\n",
        "\"\"\").toPandas()"
      ]
    },
    {
      "cell_type": "code",
      "execution_count": null,
      "metadata": {
        "id": "0Rvvszh5kySF",
        "outputId": "1c7bcf0b-affa-495b-ca32-2e331d565c13",
        "scrolled": true
      },
      "outputs": [
        {
          "data": {
            "text/html": [
              "<div>\n",
              "<style scoped>\n",
              "    .dataframe tbody tr th:only-of-type {\n",
              "        vertical-align: middle;\n",
              "    }\n",
              "\n",
              "    .dataframe tbody tr th {\n",
              "        vertical-align: top;\n",
              "    }\n",
              "\n",
              "    .dataframe thead th {\n",
              "        text-align: right;\n",
              "    }\n",
              "</style>\n",
              "<table border=\"1\" class=\"dataframe\">\n",
              "  <thead>\n",
              "    <tr style=\"text-align: right;\">\n",
              "      <th></th>\n",
              "      <th>artistName</th>\n",
              "      <th>popularity</th>\n",
              "    </tr>\n",
              "  </thead>\n",
              "  <tbody>\n",
              "    <tr>\n",
              "      <th>0</th>\n",
              "      <td>Imagine Dragons</td>\n",
              "      <td>43447</td>\n",
              "    </tr>\n",
              "    <tr>\n",
              "      <th>1</th>\n",
              "      <td>Би-2</td>\n",
              "      <td>29415</td>\n",
              "    </tr>\n",
              "    <tr>\n",
              "      <th>2</th>\n",
              "      <td>Баста</td>\n",
              "      <td>27264</td>\n",
              "    </tr>\n",
              "    <tr>\n",
              "      <th>3</th>\n",
              "      <td>Ленинград</td>\n",
              "      <td>26311</td>\n",
              "    </tr>\n",
              "    <tr>\n",
              "      <th>4</th>\n",
              "      <td>Сплин</td>\n",
              "      <td>25062</td>\n",
              "    </tr>\n",
              "    <tr>\n",
              "      <th>5</th>\n",
              "      <td>Queen</td>\n",
              "      <td>24905</td>\n",
              "    </tr>\n",
              "    <tr>\n",
              "      <th>6</th>\n",
              "      <td>Sia</td>\n",
              "      <td>22803</td>\n",
              "    </tr>\n",
              "    <tr>\n",
              "      <th>7</th>\n",
              "      <td>LOBODA</td>\n",
              "      <td>21923</td>\n",
              "    </tr>\n",
              "    <tr>\n",
              "      <th>8</th>\n",
              "      <td>Noize MC</td>\n",
              "      <td>21774</td>\n",
              "    </tr>\n",
              "    <tr>\n",
              "      <th>9</th>\n",
              "      <td>Linkin Park</td>\n",
              "      <td>21584</td>\n",
              "    </tr>\n",
              "    <tr>\n",
              "      <th>10</th>\n",
              "      <td>Монеточка</td>\n",
              "      <td>21564</td>\n",
              "    </tr>\n",
              "    <tr>\n",
              "      <th>11</th>\n",
              "      <td>Miyagi &amp; Эндшпиль</td>\n",
              "      <td>20349</td>\n",
              "    </tr>\n",
              "    <tr>\n",
              "      <th>12</th>\n",
              "      <td>Макс Корж</td>\n",
              "      <td>20065</td>\n",
              "    </tr>\n",
              "    <tr>\n",
              "      <th>13</th>\n",
              "      <td>Jah Khalib</td>\n",
              "      <td>20024</td>\n",
              "    </tr>\n",
              "    <tr>\n",
              "      <th>14</th>\n",
              "      <td>Егор Крид</td>\n",
              "      <td>19606</td>\n",
              "    </tr>\n",
              "    <tr>\n",
              "      <th>15</th>\n",
              "      <td>Oxxxymiron</td>\n",
              "      <td>18989</td>\n",
              "    </tr>\n",
              "    <tr>\n",
              "      <th>16</th>\n",
              "      <td>Земфира</td>\n",
              "      <td>18845</td>\n",
              "    </tr>\n",
              "    <tr>\n",
              "      <th>17</th>\n",
              "      <td>Кино</td>\n",
              "      <td>18326</td>\n",
              "    </tr>\n",
              "    <tr>\n",
              "      <th>18</th>\n",
              "      <td>David Guetta</td>\n",
              "      <td>16538</td>\n",
              "    </tr>\n",
              "    <tr>\n",
              "      <th>19</th>\n",
              "      <td>Полина Гагарина</td>\n",
              "      <td>15775</td>\n",
              "    </tr>\n",
              "    <tr>\n",
              "      <th>20</th>\n",
              "      <td>Макс Барских</td>\n",
              "      <td>15733</td>\n",
              "    </tr>\n",
              "    <tr>\n",
              "      <th>21</th>\n",
              "      <td>Twenty One Pilots</td>\n",
              "      <td>15551</td>\n",
              "    </tr>\n",
              "    <tr>\n",
              "      <th>22</th>\n",
              "      <td>Eminem</td>\n",
              "      <td>14911</td>\n",
              "    </tr>\n",
              "    <tr>\n",
              "      <th>23</th>\n",
              "      <td>Король и Шут</td>\n",
              "      <td>14764</td>\n",
              "    </tr>\n",
              "    <tr>\n",
              "      <th>24</th>\n",
              "      <td>Мот</td>\n",
              "      <td>14378</td>\n",
              "    </tr>\n",
              "    <tr>\n",
              "      <th>25</th>\n",
              "      <td>Елена Темникова</td>\n",
              "      <td>14260</td>\n",
              "    </tr>\n",
              "    <tr>\n",
              "      <th>26</th>\n",
              "      <td>Элджей</td>\n",
              "      <td>13935</td>\n",
              "    </tr>\n",
              "    <tr>\n",
              "      <th>27</th>\n",
              "      <td>Мумий Тролль</td>\n",
              "      <td>13564</td>\n",
              "    </tr>\n",
              "    <tr>\n",
              "      <th>28</th>\n",
              "      <td>Григорий Лепс</td>\n",
              "      <td>13366</td>\n",
              "    </tr>\n",
              "    <tr>\n",
              "      <th>29</th>\n",
              "      <td>Muse</td>\n",
              "      <td>12337</td>\n",
              "    </tr>\n",
              "  </tbody>\n",
              "</table>\n",
              "</div>"
            ],
            "text/plain": [
              "           artistName  popularity\n",
              "0     Imagine Dragons       43447\n",
              "1                Би-2       29415\n",
              "2               Баста       27264\n",
              "3           Ленинград       26311\n",
              "4               Сплин       25062\n",
              "5               Queen       24905\n",
              "6                 Sia       22803\n",
              "7              LOBODA       21923\n",
              "8            Noize MC       21774\n",
              "9         Linkin Park       21584\n",
              "10          Монеточка       21564\n",
              "11  Miyagi & Эндшпиль       20349\n",
              "12          Макс Корж       20065\n",
              "13         Jah Khalib       20024\n",
              "14          Егор Крид       19606\n",
              "15         Oxxxymiron       18989\n",
              "16            Земфира       18845\n",
              "17               Кино       18326\n",
              "18       David Guetta       16538\n",
              "19    Полина Гагарина       15775\n",
              "20       Макс Барских       15733\n",
              "21  Twenty One Pilots       15551\n",
              "22             Eminem       14911\n",
              "23       Король и Шут       14764\n",
              "24                Мот       14378\n",
              "25    Елена Темникова       14260\n",
              "26             Элджей       13935\n",
              "27       Мумий Тролль       13564\n",
              "28      Григорий Лепс       13366\n",
              "29               Muse       12337"
            ]
          },
          "execution_count": 10,
          "metadata": {},
          "output_type": "execute_result"
        }
      ],
      "source": [
        "# most popular artists\n",
        "se.sql(\"\"\"\n",
        "select\n",
        "    artists.artistName,\n",
        "    sum(plays) as popularity\n",
        "from \n",
        "    events join artists on events.artistId = artists.artistId\n",
        "group by artistName\n",
        "order by popularity desc\n",
        "limit 30\n",
        "\"\"\").toPandas()"
      ]
    },
    {
      "cell_type": "markdown",
      "metadata": {
        "id": "FhC2K0U1kySG"
      },
      "source": [
        "# Train iALS\n",
        "\n",
        "Assume, rating is encoded into `plays` column"
      ]
    },
    {
      "cell_type": "code",
      "execution_count": null,
      "metadata": {
        "id": "-Gma0xUqkySG"
      },
      "outputs": [],
      "source": [
        "import numpy as np"
      ]
    },
    {
      "cell_type": "code",
      "execution_count": null,
      "metadata": {
        "id": "uzXYrmLTkySH",
        "outputId": "3f2f6f22-413a-48a7-d056-4e859d49a0ae"
      },
      "outputs": [
        {
          "name": "stdout",
          "output_type": "stream",
          "text": [
            "CPU times: user 22.5 ms, sys: 577 µs, total: 23.1 ms\n",
            "Wall time: 13 s\n"
          ]
        },
        {
          "data": {
            "text/plain": [
              "170048"
            ]
          },
          "execution_count": 12,
          "metadata": {},
          "output_type": "execute_result"
        }
      ],
      "source": [
        "%%time\n",
        "train, test = events.rdd.randomSplit([0.95, 0.05], seed=0)\n",
        "\n",
        "# speed-up, we request it often\n",
        "train.cache()\n",
        "test.cache()\n",
        "\n",
        "train.count()\n",
        "test.count()"
      ]
    },
    {
      "cell_type": "code",
      "execution_count": null,
      "metadata": {
        "id": "SXbvVywXkySH",
        "outputId": "666bcaa2-c013-4cf8-d565-b64eb104f3ed"
      },
      "outputs": [
        {
          "data": {
            "text/plain": [
              "[Row(userId=0, artistId=335, plays=1, skips=0),\n",
              " Row(userId=0, artistId=708, plays=1, skips=0),\n",
              " Row(userId=0, artistId=710, plays=2, skips=1),\n",
              " Row(userId=0, artistId=815, plays=1, skips=1),\n",
              " Row(userId=0, artistId=880, plays=1, skips=1)]"
            ]
          },
          "execution_count": 13,
          "metadata": {},
          "output_type": "execute_result"
        }
      ],
      "source": [
        "train.take(5)"
      ]
    },
    {
      "cell_type": "code",
      "execution_count": null,
      "metadata": {
        "id": "EW3G0zHzkySI",
        "outputId": "1f1c59f9-de8a-4a2c-a96e-306a116a58c5"
      },
      "outputs": [
        {
          "name": "stdout",
          "output_type": "stream",
          "text": [
            "CPU times: user 136 ms, sys: 24 ms, total: 160 ms\n",
            "Wall time: 46.1 s\n"
          ]
        }
      ],
      "source": [
        "%%time\n",
        "\n",
        "from pyspark.mllib.recommendation import ALS\n",
        "\n",
        "model = ALS().trainImplicit(\n",
        "    train.map(lambda x: (x.userId, x.artistId, np.log2(x.plays + 1))),\n",
        "    rank=32, iterations=10, lambda_=0.01, alpha=10.0, seed=0\n",
        ")"
      ]
    },
    {
      "cell_type": "code",
      "execution_count": null,
      "metadata": {
        "id": "QdiUM_tbkySI",
        "outputId": "1d1dddcd-f91b-4ac8-eed3-1f85de4f02eb"
      },
      "outputs": [
        {
          "name": "stdout",
          "output_type": "stream",
          "text": [
            "(52657, 32)\n"
          ]
        }
      ],
      "source": [
        "# we take all artist profiles\n",
        "import numpy as np\n",
        "\n",
        "artist_to_name = {}\n",
        "for row in artists.collect():\n",
        "    artist_to_name[row.artistId] = row.artistName\n",
        "\n",
        "artist_ids = []\n",
        "artist_names = []\n",
        "artist_profiles = []\n",
        "\n",
        "for artistId, profile in model.productFeatures().collect():\n",
        "    artist_ids.append(artistId)\n",
        "    artist_names.append(artist_to_name[artistId])\n",
        "    artist_profiles.append(profile)\n",
        "\n",
        "artist_ids = np.array(artist_ids)\n",
        "artist_names = np.array(artist_names)\n",
        "artist_profiles = np.vstack(artist_profiles)\n",
        "print(artist_profiles.shape)"
      ]
    },
    {
      "cell_type": "markdown",
      "metadata": {
        "id": "JPnd1zQJkySJ"
      },
      "source": [
        "# Artists similarity"
      ]
    },
    {
      "cell_type": "code",
      "execution_count": null,
      "metadata": {
        "id": "EOoZNiWgkySJ",
        "outputId": "2e3a1310-e943-475b-cb10-2da99551a4fc"
      },
      "outputs": [
        {
          "data": {
            "text/plain": [
              "{78: 'Coldplay', 19576: 'AC/DC', 39708: '50 Cent'}"
            ]
          },
          "execution_count": 16,
          "metadata": {},
          "output_type": "execute_result"
        }
      ],
      "source": [
        "target_artists = {index: v \n",
        "                  for index, v in enumerate(artist_names) \n",
        "                  if \"Coldplay\" == v or \"50 Cent\" == v or \"AC/DC\" == v}\n",
        "target_artists"
      ]
    },
    {
      "cell_type": "code",
      "execution_count": null,
      "metadata": {
        "id": "KKuvYawPkySJ",
        "outputId": "536ec891-e9d4-4980-8721-729446d6176e"
      },
      "outputs": [
        {
          "name": "stdout",
          "output_type": "stream",
          "text": [
            "############# Coldplay #############\n",
            "Coldplay \t 1.0\n",
            "Adele \t 0.9514991314960761\n",
            "OneRepublic \t 0.950638578019446\n",
            "Lana Del Rey \t 0.9504944981911303\n",
            "Maroon 5 \t 0.9430133462907239\n",
            "Twenty One Pilots \t 0.9157747691071161\n",
            "Ed Sheeran \t 0.9157440379942977\n",
            "Pharrell Williams \t 0.9118622317087689\n",
            "Sam Smith \t 0.9114849543340605\n",
            "Rihanna \t 0.9039903881160768\n",
            "############# AC/DC #############\n",
            "AC/DC \t 1.0\n",
            "The Offspring \t 0.8920983700671247\n",
            "Nirvana \t 0.8696372871542281\n",
            "Red Hot Chili Peppers \t 0.8636266966741878\n",
            "Metallica \t 0.8588127380977159\n",
            "System of A Down \t 0.854862161734499\n",
            "Bon Jovi \t 0.8430942536703123\n",
            "Limp Bizkit \t 0.8370104524874088\n",
            "Nickelback \t 0.8320685893567428\n",
            "Kiss \t 0.8268261529375072\n",
            "############# 50 Cent #############\n",
            "50 Cent \t 1.0\n",
            "Dr. Dre \t 0.8901604622643832\n",
            "2Chainz \t 0.831186741989025\n",
            "Lloyd Banks \t 0.8245230681566197\n",
            "Ludacris \t 0.819130925498649\n",
            "Fat Joe \t 0.8093649119722239\n",
            "Jay-Z \t 0.8060270813917894\n",
            "Cashis \t 0.8050292090107992\n",
            "Missy  Elliott \t 0.7990513393453588\n",
            "Akon \t 0.7939836308805837\n"
          ]
        }
      ],
      "source": [
        "import scipy\n",
        "import scipy.spatial\n",
        "\n",
        "for index, name in target_artists.items():\n",
        "    print(\"#############\", name, \"#############\")\n",
        "    \n",
        "    cosines = (-scipy.spatial.distance.cdist([artist_profiles[index]], artist_profiles, metric='cosine') + 1)[0]\n",
        "    cosines[np.isnan(cosines)] = -1e20\n",
        "\n",
        "    for idx in np.argsort(cosines)[::-1][:10]:\n",
        "        print(artist_names[idx], \"\\t\", cosines[idx])"
      ]
    },
    {
      "cell_type": "markdown",
      "metadata": {
        "id": "Yd77-fNhkySK"
      },
      "source": [
        "# NDCG"
      ]
    },
    {
      "cell_type": "code",
      "execution_count": null,
      "metadata": {
        "id": "I0jLX7kEkySK"
      },
      "outputs": [],
      "source": [
        "def dcg(ratings):\n",
        "    return float(np.sum((2 ** np.array(ratings, np.float32) - 1) / np.log2(np.arange(1, len(ratings) + 1) + 1)))\n",
        "\n",
        "\n",
        "def ndcg(ratings, at=None):\n",
        "    idcg = dcg(sorted(ratings, reverse=True))\n",
        "    return dcg(ratings) / idcg if idcg > 0 else 0\n",
        "\n",
        "\n",
        "def ndcg_score(y_true, y_pred):\n",
        "    assert y_true.shape == y_pred.shape\n",
        "    order = np.argsort(y_pred)[::-1]\n",
        "    return ndcg(y_true[order])\n",
        "\n",
        "\n",
        "# tests\n",
        "def test1():\n",
        "    y_true = np.array([  0,   0,   2,   1,   0])\n",
        "    y_pred = np.array([0.2, 0.1, 0.5, 0.3, 0.4])\n",
        "    correct_ndcg = (3 / np.log(1 + 1) + 1 / np.log(3 + 1)) / (3 / np.log(1 + 1) + 1 / np.log(2 + 1))\n",
        "    assert np.allclose(ndcg_score(y_true, y_pred), correct_ndcg)\n",
        "\n",
        "    \n",
        "def test2():\n",
        "    y_true = np.array([  0,   0,   0,   0,   0])\n",
        "    y_pred = np.array([0.2, 0.1, 0.5, 0.3, 0.4])\n",
        "    assert np.allclose(ndcg_score(y_true, y_pred), 0.0)\n",
        "\n",
        "    \n",
        "def test3():\n",
        "    y_true = np.array([  1,   0,   0,   0,   0])\n",
        "    y_pred = np.array([0.2, 0.1, 0.5, 0.3, 0.4])\n",
        "    correct_ndcg = (1 / np.log(4 + 1)) / (1 / np.log(1 + 1))\n",
        "    assert np.allclose(ndcg_score(y_true, y_pred), correct_ndcg)\n",
        "\n",
        "\n",
        "test1()\n",
        "test2()\n",
        "test3()"
      ]
    },
    {
      "cell_type": "code",
      "execution_count": null,
      "metadata": {
        "id": "h69sr7PUkySL",
        "outputId": "f8694b7b-8de6-4318-ee15-b0490f54599d"
      },
      "outputs": [
        {
          "name": "stdout",
          "output_type": "stream",
          "text": [
            "45.64282878502658\n",
            "33.64282878502658\n",
            "44.963945628433834\n"
          ]
        }
      ],
      "source": [
        "print(dcg([5, 4, 3, 2, 1]))\n",
        "print(dcg([3, 4, 5, 2, 1]))\n",
        "print(dcg([5, 4, 1, 2, 3]))"
      ]
    },
    {
      "cell_type": "markdown",
      "metadata": {
        "id": "ppbm6PSQkySL"
      },
      "source": [
        "# Calc NDCG for baseline\n",
        "\n",
        "Range artists by popularity"
      ]
    },
    {
      "cell_type": "code",
      "execution_count": null,
      "metadata": {
        "id": "xlIs-XankySM"
      },
      "outputs": [],
      "source": [
        "artist_to_popularity = (\n",
        "    train\n",
        "    .map(lambda x: (x.artistId, x.plays))\n",
        "    .reduceByKey(lambda a, b: a + b)\n",
        "    .collect()\n",
        ")\n",
        "\n",
        "artist_to_popularity = {a: p for a, p in artist_to_popularity}"
      ]
    },
    {
      "cell_type": "code",
      "execution_count": null,
      "metadata": {
        "id": "73MCLzJMkySM"
      },
      "outputs": [],
      "source": [
        "predictions_and_ratings_per_user = (\n",
        "    test\n",
        "    .map(lambda x: (x.userId, (artist_to_popularity.get(x.artistId, 0), np.log2(x.plays + 1))))\n",
        "    .groupByKey()\n",
        "    .map(lambda x: (x[0], list(x[1])))\n",
        ")"
      ]
    },
    {
      "cell_type": "code",
      "execution_count": null,
      "metadata": {
        "id": "8WUNhjVskySM",
        "outputId": "60542a6f-09fd-419f-877b-f50e1c381659",
        "scrolled": true
      },
      "outputs": [
        {
          "data": {
            "text/plain": [
              "[(0,\n",
              "  [(2393, 1.0),\n",
              "   (21848, 3.321928094887362),\n",
              "   (624, 1.0),\n",
              "   (7273, 1.0),\n",
              "   (900, 1.584962500721156),\n",
              "   (494, 1.584962500721156),\n",
              "   (4011, 1.0),\n",
              "   (2271, 1.584962500721156),\n",
              "   (788, 1.0),\n",
              "   (1024, 1.584962500721156),\n",
              "   (4428, 3.584962500721156),\n",
              "   (230, 1.0),\n",
              "   (1515, 1.0),\n",
              "   (2313, 1.584962500721156),\n",
              "   (1243, 2.321928094887362),\n",
              "   (5501, 2.321928094887362),\n",
              "   (7768, 5.977279923499917),\n",
              "   (783, 1.0),\n",
              "   (4757, 1.584962500721156),\n",
              "   (1228, 1.0),\n",
              "   (47, 0.0),\n",
              "   (4281, 0.0),\n",
              "   (3577, 0.0),\n",
              "   (1263, 0.0),\n",
              "   (2080, 0.0),\n",
              "   (181, 0.0),\n",
              "   (1763, 0.0),\n",
              "   (975, 0.0),\n",
              "   (6877, 0.0),\n",
              "   (9, 0.0),\n",
              "   (276, 0.0),\n",
              "   (3294, 0.0),\n",
              "   (5314, 0.0),\n",
              "   (444, 0.0),\n",
              "   (54, 0.0),\n",
              "   (751, 0.0)])]"
            ]
          },
          "execution_count": 22,
          "metadata": {},
          "output_type": "execute_result"
        }
      ],
      "source": [
        "predictions_and_ratings_per_user.take(1)"
      ]
    },
    {
      "cell_type": "code",
      "execution_count": null,
      "metadata": {
        "id": "GDD33LZ4kySM",
        "outputId": "29621afd-1f5d-41ff-b3bb-b808a8501e4c"
      },
      "outputs": [
        {
          "data": {
            "text/plain": [
              "0.6641733130095444"
            ]
          },
          "execution_count": 23,
          "metadata": {},
          "output_type": "execute_result"
        }
      ],
      "source": [
        "def ndcg_for_user(x):\n",
        "    y_pred = np.array([e[0] for e in x])\n",
        "    y_true = np.array([e[1] for e in x])\n",
        "    return ndcg_score(y_true, y_pred)\n",
        "    \n",
        "(\n",
        "    predictions_and_ratings_per_user\n",
        "    .map(lambda x: ndcg_for_user(x[1]))\n",
        "    .mean()\n",
        ")"
      ]
    },
    {
      "cell_type": "markdown",
      "metadata": {
        "id": "T6QWgzj9kySN"
      },
      "source": [
        "# NDCG for iALS"
      ]
    },
    {
      "cell_type": "code",
      "execution_count": null,
      "metadata": {
        "id": "5fO5ES8nkySN"
      },
      "outputs": [],
      "source": [
        "predictions = (\n",
        "    model\n",
        "    .predictAll(test.map(lambda x: (x.userId, x.artistId)))\n",
        "    .map(lambda x: ((x[0], x[1]), x[2]))\n",
        ")"
      ]
    },
    {
      "cell_type": "code",
      "execution_count": null,
      "metadata": {
        "id": "6FB4mSjskySN",
        "outputId": "199c4932-491d-47fd-fee8-ae971df65133"
      },
      "outputs": [
        {
          "data": {
            "text/plain": [
              "[((2760, 57436), 0.3116623497144269),\n",
              " ((3013, 57436), 0.383071386909422),\n",
              " ((4698, 57436), 0.6615872184920817),\n",
              " ((679, 57436), 0.2201103342246492),\n",
              " ((4031, 57436), 0.27049808298492056)]"
            ]
          },
          "execution_count": 25,
          "metadata": {},
          "output_type": "execute_result"
        }
      ],
      "source": [
        "predictions.take(5)"
      ]
    },
    {
      "cell_type": "code",
      "execution_count": null,
      "metadata": {
        "id": "ObzL9CnqkySO"
      },
      "outputs": [],
      "source": [
        "predictions_and_ratings_per_user = (\n",
        "    predictions\n",
        "    .join(test.map(lambda x: ((x.userId, x.artistId), np.log2(x.plays + 1))))\n",
        "    .map(lambda x: (x[0][0], x[1]))\n",
        "    .groupByKey()\n",
        "    .map(lambda x: (x[0], list(x[1])))\n",
        ")"
      ]
    },
    {
      "cell_type": "code",
      "execution_count": null,
      "metadata": {
        "id": "5rDwuDxDkySO",
        "outputId": "41f91bea-a5c1-40ed-928f-d81d127c2323",
        "scrolled": false
      },
      "outputs": [
        {
          "data": {
            "text/plain": [
              "[(424,\n",
              "  [(0.49470669790378563, 0.0),\n",
              "   (0.07256944997573084, 1.0),\n",
              "   (1.0418825212243026, 1.0),\n",
              "   (0.873224499136573, 3.0),\n",
              "   (0.7800387467699602, 0.0),\n",
              "   (0.5205558719341108, 1.0),\n",
              "   (0.8574898887049791, 1.0),\n",
              "   (0.670542248485958, 1.0),\n",
              "   (0.9413614384766841, 1.0),\n",
              "   (0.5795242140631821, 1.0),\n",
              "   (0.8416199330412857, 1.0),\n",
              "   (0.8542678021391192, 0.0),\n",
              "   (0.9193556138983022, 1.0),\n",
              "   (0.7073060767055575, 1.584962500721156),\n",
              "   (0.524343721291789, 0.0),\n",
              "   (0.22297555849377154, 0.0),\n",
              "   (0.7891040536478586, 1.0),\n",
              "   (0.9171743034407762, 2.0),\n",
              "   (0.675839796037516, 1.0),\n",
              "   (0.36477756220112845, 1.0),\n",
              "   (0.8036689112341607, 1.0),\n",
              "   (0.7416945356735936, 1.584962500721156),\n",
              "   (0.8661557675018852, 4.700439718141092),\n",
              "   (-0.012526385180065408, 0.0),\n",
              "   (0.9405575210023864, 3.584962500721156),\n",
              "   (0.37677583541476733, 1.0),\n",
              "   (0.059876624874282566, 2.807354922057604),\n",
              "   (0.8369159623023275, 1.0),\n",
              "   (0.20230316560754527, 1.0),\n",
              "   (0.6800615414350136, 0.0),\n",
              "   (0.6108168720968993, 1.0),\n",
              "   (0.7797517232400335, 1.0),\n",
              "   (0.3937127270811551, 1.0),\n",
              "   (0.6268981244047638, 0.0),\n",
              "   (0.5630175137185096, 1.0),\n",
              "   (0.5040839314064208, 1.0),\n",
              "   (0.7923997638193185, 1.0),\n",
              "   (0.4809297908256825, 1.0),\n",
              "   (0.10749503220081429, 0.0),\n",
              "   (0.2950918576423886, 0.0),\n",
              "   (0.9084203109083052, 1.0),\n",
              "   (0.13191278475944648, 0.0),\n",
              "   (0.7826365949063723, 1.0),\n",
              "   (0.09801325238415995, 0.0),\n",
              "   (0.3817423029874344, 2.584962500721156),\n",
              "   (0.7471576615301541, 1.0),\n",
              "   (0.4101854327947731, 1.0),\n",
              "   (0.4892539910927119, 1.584962500721156),\n",
              "   (0.8479720584002348, 2.321928094887362),\n",
              "   (0.08031924172927572, 1.0),\n",
              "   (0.7895601263732017, 2.584962500721156),\n",
              "   (0.5465148329681024, 1.0),\n",
              "   (0.49944907250352455, 1.0),\n",
              "   (0.4336630244967092, 0.0),\n",
              "   (0.9087061592341779, 3.4594316186372973)])]"
            ]
          },
          "execution_count": 27,
          "metadata": {},
          "output_type": "execute_result"
        }
      ],
      "source": [
        "predictions_and_ratings_per_user.take(1)"
      ]
    },
    {
      "cell_type": "code",
      "execution_count": null,
      "metadata": {
        "id": "hxxJmgDIkySO",
        "outputId": "fa49dcb9-913f-4708-a816-b11ef124f601"
      },
      "outputs": [
        {
          "data": {
            "text/plain": [
              "0.7190445899654145"
            ]
          },
          "execution_count": 28,
          "metadata": {},
          "output_type": "execute_result"
        }
      ],
      "source": [
        "def ndcg_for_user(x):\n",
        "    y_pred = np.array([e[0] for e in x])\n",
        "    y_true = np.array([e[1] for e in x])\n",
        "    return ndcg_score(y_true, y_pred)\n",
        "    \n",
        "(\n",
        "    predictions_and_ratings_per_user\n",
        "    .map(lambda x: ndcg_for_user(x[1]))\n",
        "    .mean()\n",
        ")"
      ]
    },
    {
      "cell_type": "code",
      "execution_count": null,
      "metadata": {
        "id": "l8f2ht3UkySO",
        "outputId": "6230bb1b-578e-40c6-c408-ba121f458c18"
      },
      "outputs": [
        {
          "name": "stdout",
          "output_type": "stream",
          "text": [
            "Increased by 8.32%!\n"
          ]
        }
      ],
      "source": [
        "print(\"Increased by {:0.3}%!\".format(100 * (0.716 / 0.661 - 1)))"
      ]
    },
    {
      "cell_type": "code",
      "execution_count": null,
      "metadata": {
        "id": "jA8lIJ65kySP"
      },
      "outputs": [],
      "source": []
    }
  ],
  "metadata": {
    "colab": {
      "provenance": []
    },
    "kernelspec": {
      "display_name": "Python 3.8.9 64-bit",
      "language": "python",
      "name": "python3"
    },
    "language_info": {
      "codemirror_mode": {
        "name": "ipython",
        "version": 3
      },
      "file_extension": ".py",
      "mimetype": "text/x-python",
      "name": "python",
      "nbconvert_exporter": "python",
      "pygments_lexer": "ipython3",
      "version": "3.9.6"
    },
    "vscode": {
      "interpreter": {
        "hash": "31f2aee4e71d21fbe5cf8b01ff0e069b9275f58929596ceb00d14d90e3e16cd6"
      }
    }
  },
  "nbformat": 4,
  "nbformat_minor": 0
}
