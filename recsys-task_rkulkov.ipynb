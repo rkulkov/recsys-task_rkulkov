{
 "cells": [
  {
   "cell_type": "markdown",
   "metadata": {},
   "source": [
    "# Homework\n",
    "\n",
    "In the lectures, we discussed the Jaccard measure and how to calculate it efficiently on MapReduce. Examples could be found in jaccard-seminar.ipynb\n",
    "\n",
    "You are invited to calculate the Jaccard measure on Spark to find similar performers in the entire dataset and answer the following questions:\n",
    "1. **How many performers remain in consideration after applying all filters from the job description?**\n",
    "2. **For how many pairs of performers did you manage to calculate non-zero similarity according to Jaccard? Here, all possible pairs (a, b) and (b, a) are taken into account, as well as (a, a), to check the correctness.**\n",
    "3. **Find the 10 most similar artists to \"Tommy Cash\" by Jaccard's calculated measure on MapReduce. As a result, write down the names of 10 artists other than \"Tommy Cash\".**\n",
    "\n",
    "PySpark MLlib contains feature for Jaccard measure calculation - MinHashLSH. You are invited to calculate the Jaccard measure using this feature with threshold 0.95 and 20 hash tables to find similar performers in the entire dataset and answer the following question:\n",
    "\n",
    "4. **Find the 10 most similar artists to \"Tommy Cash\" by Jaccard's calculated measure using MinHashLSH. As a result, write down the names of 10 artists other than \"Tommy Cash\".**\n",
    "\n",
    "- Use the data loaded in the <a href=\"#Loading-data\">Loading-data</a> section.\n",
    "- Users who listened to $N$ artists will contribute to the similarity of $N^2$ pairs of artists. Therefore, rare very active users will greatly slow down our algorithm. For such users, in practice, take a subset of plays, for example, 1000. We will do it easier and will only consider plays where $plays > 2$, thus leaving only the most confident user preferences.\n",
    "- To make the similarities more confident, we will consider them only for those performers who were strictly listened to by more than 50 people (taking into account the previous filter by auditions).\n",
    "- To debug the algorithm on a smaller amount of data, you can use the transformation <a href=\"https://spark.apache.org/docs/latest/api/python/pyspark.html#pyspark.RDD.sample\">events.sample(False , 0.01)</a> so as not to wait long for debug runs.\n",
    "- We can assume that data about performers (for example, their popularity) will fit in the memory of each machine. There just aren't that many performers in the world that won't fit.\n",
    "- If a step takes a very long time, you can increase the degree of parallelism, for example,\n",
    "<a href=\"https://spark.apache.org/docs/latest/api/python/pyspark.html#pyspark.RDD.groupByKey\">groupByKey(numPartitions=100)</a> to see more granular progress execution.\n",
    "- Sometimes it makes sense to save the calculated result in HDFS, so as not to recalculate it again every time it is needed.\n",
    "- When working with big data, patience is required, the author's solution works for about 10 minutes.\n",
    "- This problem can also be solved in Spark SQL, if you like it better.\n",
    "- Use HashingTF in the Pipeline to pass data to MinHashLSH\n",
    "- Note that 'Tommy Cash' has two artisIds\n",
    "\n",
    "\n",
    "Save the solution to the `result.json` file. \n",
    "File content example:\n",
    "```json\n",
    "{\n",
    "    \"q1\": 123,\n",
    "    \"q2\": 456,\n",
    "    \"q3\": [\n",
    "        \"artistName1\",\n",
    "        \"artistName2\",\n",
    "        \"artistName3\",\n",
    "        \"artistName4\",\n",
    "        \"artistName5\",\n",
    "        \"artistName6\",\n",
    "        \"artistName7\",\n",
    "        \"artistName8\",\n",
    "        \"artistName9\",\n",
    "        \"artistName10\"\n",
    "    ]\n",
    "    \"q4\": [\n",
    "        \"artistName1\",\n",
    "        \"artistName2\",\n",
    "        \"artistName3\",\n",
    "        \"artistName4\",\n",
    "        \"artistName5\",\n",
    "        \"artistName6\",\n",
    "        \"artistName7\",\n",
    "        \"artistName8\",\n",
    "        \"artistName9\",\n",
    "        \"artistName10\"\n",
    "    ]\n",
    "}\n",
    "```"
   ]
  },
  {
   "cell_type": "markdown",
   "metadata": {
    "jp-MarkdownHeadingCollapsed": true,
    "tags": []
   },
   "source": [
    "### Intro"
   ]
  },
  {
   "cell_type": "code",
   "execution_count": 1,
   "metadata": {
    "tags": []
   },
   "outputs": [
    {
     "name": "stderr",
     "output_type": "stream",
     "text": [
      "Setting default log level to \"WARN\".\n",
      "To adjust logging level use sc.setLogLevel(newLevel). For SparkR, use setLogLevel(newLevel).\n",
      "2023-12-15 15:35:02,044 WARN yarn.Client: Neither spark.yarn.jars nor spark.yarn.archive is set, falling back to uploading libraries under SPARK_HOME.\n"
     ]
    }
   ],
   "source": [
    "import findspark\n",
    "findspark.init()\n",
    "\n",
    "import pyspark\n",
    "sc = pyspark.SparkContext(appName='jupyter')\n",
    "\n",
    "from pyspark.sql import SparkSession, Row\n",
    "se = SparkSession(sc)"
   ]
  },
  {
   "cell_type": "code",
   "execution_count": 2,
   "metadata": {
    "tags": []
   },
   "outputs": [
    {
     "name": "stdout",
     "output_type": "stream",
     "text": [
      "copyFromLocal: `/yandex_music/events.csv': File exists\n",
      "copyFromLocal: `/yandex_music/artists.jsonl': File exists\n",
      "copyFromLocal: `/yandex_music/README.txt': File exists\n",
      "Found 3 items\n",
      "-rw-r--r--   1 jovyan supergroup        254 2023-12-14 13:21 /yandex_music/README.txt\n",
      "-rw-r--r--   1 jovyan supergroup      3.7 M 2023-12-14 13:21 /yandex_music/artists.jsonl\n",
      "-rw-r--r--   1 jovyan supergroup     47.6 M 2023-12-14 13:21 /yandex_music/events.csv\n"
     ]
    }
   ],
   "source": [
    "! hadoop fs -copyFromLocal yandex_music /\n",
    "\n",
    "! hadoop fs -ls -h /yandex_music"
   ]
  },
  {
   "cell_type": "code",
   "execution_count": 3,
   "metadata": {
    "tags": []
   },
   "outputs": [],
   "source": [
    "events = se.read.csv(\"hdfs:///yandex_music/events.csv\", header=True, \n",
    "                      schema='userId bigint, artistId bigint, plays INT, skips INT')\n",
    "events.registerTempTable(\"events\")"
   ]
  },
  {
   "cell_type": "code",
   "execution_count": 4,
   "metadata": {
    "tags": []
   },
   "outputs": [
    {
     "name": "stderr",
     "output_type": "stream",
     "text": [
      "[Stage 0:>                                                          (0 + 1) / 1]\r"
     ]
    },
    {
     "name": "stdout",
     "output_type": "stream",
     "text": [
      "+------+--------+-----+-----+\n",
      "|userId|artistId|plays|skips|\n",
      "+------+--------+-----+-----+\n",
      "|     0|     335|    1|    0|\n",
      "+------+--------+-----+-----+\n",
      "only showing top 1 row\n",
      "\n"
     ]
    },
    {
     "name": "stderr",
     "output_type": "stream",
     "text": [
      "                                                                                \r"
     ]
    }
   ],
   "source": [
    "events.show(1)"
   ]
  },
  {
   "cell_type": "code",
   "execution_count": 5,
   "metadata": {
    "tags": []
   },
   "outputs": [
    {
     "data": {
      "text/html": [
       "<div>\n",
       "<style scoped>\n",
       "    .dataframe tbody tr th:only-of-type {\n",
       "        vertical-align: middle;\n",
       "    }\n",
       "\n",
       "    .dataframe tbody tr th {\n",
       "        vertical-align: top;\n",
       "    }\n",
       "\n",
       "    .dataframe thead th {\n",
       "        text-align: right;\n",
       "    }\n",
       "</style>\n",
       "<table border=\"1\" class=\"dataframe\">\n",
       "  <thead>\n",
       "    <tr style=\"text-align: right;\">\n",
       "      <th></th>\n",
       "      <th>artistId</th>\n",
       "      <th>artistName</th>\n",
       "    </tr>\n",
       "  </thead>\n",
       "  <tbody>\n",
       "    <tr>\n",
       "      <th>0</th>\n",
       "      <td>0</td>\n",
       "      <td>Mack Gordon</td>\n",
       "    </tr>\n",
       "    <tr>\n",
       "      <th>1</th>\n",
       "      <td>1</td>\n",
       "      <td>Kenny Dorham</td>\n",
       "    </tr>\n",
       "    <tr>\n",
       "      <th>2</th>\n",
       "      <td>2</td>\n",
       "      <td>Max Roach</td>\n",
       "    </tr>\n",
       "    <tr>\n",
       "      <th>3</th>\n",
       "      <td>3</td>\n",
       "      <td>Francis Rossi</td>\n",
       "    </tr>\n",
       "    <tr>\n",
       "      <th>4</th>\n",
       "      <td>4</td>\n",
       "      <td>Status Quo</td>\n",
       "    </tr>\n",
       "  </tbody>\n",
       "</table>\n",
       "</div>"
      ],
      "text/plain": [
       "   artistId     artistName\n",
       "0         0    Mack Gordon\n",
       "1         1   Kenny Dorham\n",
       "2         2      Max Roach\n",
       "3         3  Francis Rossi\n",
       "4         4     Status Quo"
      ]
     },
     "execution_count": 5,
     "metadata": {},
     "output_type": "execute_result"
    }
   ],
   "source": [
    "artists = se.read.json(\"hdfs:///yandex_music/artists.jsonl\")\n",
    "artists.registerTempTable(\"artists\")\n",
    "artists.limit(5).toPandas()"
   ]
  },
  {
   "cell_type": "code",
   "execution_count": 19,
   "metadata": {
    "tags": []
   },
   "outputs": [],
   "source": [
    "from pyspark.sql.functions import col, countDistinct\n",
    "from pyspark.ml.feature import HashingTF, MinHashLSH\n",
    "from pyspark.ml import Pipeline\n",
    "from pyspark.sql import functions as F"
   ]
  },
  {
   "cell_type": "code",
   "execution_count": null,
   "metadata": {},
   "outputs": [],
   "source": [
    "# here goes your solution"
   ]
  },
  {
   "cell_type": "code",
   "execution_count": null,
   "metadata": {},
   "outputs": [],
   "source": []
  },
  {
   "cell_type": "markdown",
   "metadata": {},
   "source": [
    "### Solution"
   ]
  },
  {
   "cell_type": "code",
   "execution_count": 1,
   "metadata": {
    "tags": []
   },
   "outputs": [],
   "source": [
    "import findspark\n",
    "findspark.init()\n",
    "\n",
    "import pyspark\n",
    "from pyspark import SparkContext\n",
    "from pyspark.sql import SparkSession\n",
    "import pyspark.sql.functions as F\n",
    "import pyspark.sql.types as T\n",
    "from pyspark.ml.feature import HashingTF, MinHashLSH\n",
    "from pyspark.ml import Pipeline\n",
    "import json\n",
    "import random\n",
    "import time"
   ]
  },
  {
   "cell_type": "code",
   "execution_count": 2,
   "metadata": {
    "tags": []
   },
   "outputs": [
    {
     "name": "stderr",
     "output_type": "stream",
     "text": [
      "Setting default log level to \"WARN\".\n",
      "To adjust logging level use sc.setLogLevel(newLevel). For SparkR, use setLogLevel(newLevel).\n",
      "2024-10-29 14:50:20,547 WARN yarn.Client: Neither spark.yarn.jars nor spark.yarn.archive is set, falling back to uploading libraries under SPARK_HOME.\n"
     ]
    }
   ],
   "source": [
    "sparkContext = pyspark.SparkContext(appName='jupyter')\n",
    "spark = SparkSession(sparkContext)"
   ]
  },
  {
   "cell_type": "code",
   "execution_count": 3,
   "metadata": {
    "tags": []
   },
   "outputs": [],
   "source": [
    "start_time = time.time()"
   ]
  },
  {
   "cell_type": "code",
   "execution_count": 4,
   "metadata": {
    "tags": []
   },
   "outputs": [],
   "source": [
    "def generate_pairs(artist_list):\n",
    "    pairs = []\n",
    "    artist_list = list(set(artist_list))\n",
    "    \n",
    "    for i in range(len(artist_list)):\n",
    "        for j in range(i, len(artist_list)):\n",
    "            pairs.append((artist_list[i], artist_list[j]))\n",
    "            \n",
    "            if artist_list[i] != artist_list[j]:\n",
    "                pairs.append((artist_list[j], artist_list[i]))\n",
    "                \n",
    "    return pairs\n",
    "\n",
    "\n",
    "def calculate_jaccard(pair, intersection_count):\n",
    "    a, b = pair\n",
    "    union_count = artist_count_dict[a] + artist_count_dict[b] - intersection_count\n",
    "    \n",
    "    return float(intersection_count) / union_count\n",
    "\n",
    "\n",
    "def sample_from_dict(d, sample=10):\n",
    "    keys = random.sample(list(d), sample)\n",
    "    values = [d[k] for k in keys]\n",
    "    \n",
    "    return dict(zip(keys, values))\n",
    "\n",
    "\n",
    "pair_udf = F.udf(generate_pairs, T.ArrayType(T.ArrayType(T.IntegerType())))\n",
    "jaccard_udf = F.udf(calculate_jaccard, 'double')"
   ]
  },
  {
   "cell_type": "code",
   "execution_count": 5,
   "metadata": {
    "tags": []
   },
   "outputs": [
    {
     "name": "stderr",
     "output_type": "stream",
     "text": [
      "                                                                                \r"
     ]
    },
    {
     "data": {
      "text/plain": [
       "671287"
      ]
     },
     "execution_count": 5,
     "metadata": {},
     "output_type": "execute_result"
    }
   ],
   "source": [
    "events_filtered_sdf = (\n",
    "    spark\n",
    "    .read\n",
    "    .csv(\n",
    "        \"file:///home/jovyan/work/yandex_music/events.csv\",\n",
    "        header=True,\n",
    "        schema='userId bigint, artistId bigint, plays INT, skips INT'\n",
    "    )\n",
    "    .filter(F.col('plays') > 2)\n",
    ")\n",
    "events_filtered_sdf.cache()\n",
    "events_filtered_sdf.count()"
   ]
  },
  {
   "cell_type": "code",
   "execution_count": 6,
   "metadata": {
    "tags": []
   },
   "outputs": [
    {
     "data": {
      "text/plain": [
       "70818"
      ]
     },
     "execution_count": 6,
     "metadata": {},
     "output_type": "execute_result"
    }
   ],
   "source": [
    "artists_sdf = spark.read.json(\"file:///home/jovyan/work/yandex_music/artists.jsonl\")\n",
    "artists_sdf.cache()\n",
    "artists_sdf.count()"
   ]
  },
  {
   "cell_type": "code",
   "execution_count": 7,
   "metadata": {
    "tags": []
   },
   "outputs": [
    {
     "name": "stderr",
     "output_type": "stream",
     "text": [
      "[Stage 8:=====================================================> (194 + 2) / 200]\r"
     ]
    },
    {
     "name": "stdout",
     "output_type": "stream",
     "text": [
      "+--------+----------+\n",
      "|artistId|user_count|\n",
      "+--------+----------+\n",
      "|28078   |332       |\n",
      "|11567   |73        |\n",
      "|10156   |874       |\n",
      "|18196   |231       |\n",
      "|11434   |114       |\n",
      "+--------+----------+\n",
      "only showing top 5 rows\n",
      "\n"
     ]
    },
    {
     "name": "stderr",
     "output_type": "stream",
     "text": [
      "                                                                                \r"
     ]
    }
   ],
   "source": [
    "popular_artists_sdf = (\n",
    "    events_filtered_sdf\n",
    "    .groupBy('artistId')\n",
    "    .agg(F.countDistinct('userId').alias('user_count'))\n",
    "    .filter(F.col('user_count') > 50)\n",
    ")\n",
    "popular_artists_sdf.cache()\n",
    "popular_artists_sdf.show(5, False)"
   ]
  },
  {
   "cell_type": "code",
   "execution_count": 8,
   "metadata": {
    "tags": []
   },
   "outputs": [
    {
     "name": "stderr",
     "output_type": "stream",
     "text": [
      "                                                                                \r"
     ]
    },
    {
     "data": {
      "text/plain": [
       "[28078, 11567, 10156, 18196, 11434]"
      ]
     },
     "execution_count": 8,
     "metadata": {},
     "output_type": "execute_result"
    }
   ],
   "source": [
    "popular_artist_ids_lst = [row.artistId for row in popular_artists_sdf.collect()]\n",
    "popular_artist_ids_lst[:5]"
   ]
  },
  {
   "cell_type": "code",
   "execution_count": 9,
   "metadata": {
    "tags": []
   },
   "outputs": [
    {
     "data": {
      "text/plain": [
       "2889"
      ]
     },
     "execution_count": 9,
     "metadata": {},
     "output_type": "execute_result"
    }
   ],
   "source": [
    "# Number of performers remaining after filters\n",
    "q1 = len(popular_artist_ids_lst)\n",
    "q1"
   ]
  },
  {
   "cell_type": "code",
   "execution_count": 10,
   "metadata": {
    "tags": []
   },
   "outputs": [
    {
     "name": "stdout",
     "output_type": "stream",
     "text": [
      "+------+--------+-----+-----+\n",
      "|userId|artistId|plays|skips|\n",
      "+------+--------+-----+-----+\n",
      "|0     |2130    |4    |10   |\n",
      "|0     |2267    |5    |3    |\n",
      "|0     |2810    |5    |3    |\n",
      "|0     |3568    |5    |9    |\n",
      "|0     |3629    |9    |8    |\n",
      "+------+--------+-----+-----+\n",
      "only showing top 5 rows\n",
      "\n"
     ]
    }
   ],
   "source": [
    "events_filtered_popular_sdf = events_filtered_sdf.filter(F.col('artistId').isin(popular_artist_ids_lst))\n",
    "events_filtered_popular_sdf.cache()\n",
    "events_filtered_popular_sdf.show(5, False)"
   ]
  },
  {
   "cell_type": "code",
   "execution_count": 11,
   "metadata": {
    "tags": []
   },
   "outputs": [
    {
     "name": "stderr",
     "output_type": "stream",
     "text": [
      "[Stage 14:==============================================>         (10 + 1) / 12]\r"
     ]
    },
    {
     "name": "stdout",
     "output_type": "stream",
     "text": [
      "+------+------------------------------------------------------------------------------------------------------------------------+\n",
      "|userId|                                                                                                             artist_list|\n",
      "+------+------------------------------------------------------------------------------------------------------------------------+\n",
      "|    26|[59767, 17881, 64885, 27311, 50889, 5330, 32916, 20132, 6107, 59020, 20938, 25883, 30747, 52911, 33239, 23578, 54654,...|\n",
      "|    29|[20088, 5584, 133, 7712, 23530, 6107, 67848, 410, 69670, 60313, 20003, 404, 8389, 30747, 70609, 52911, 61710, 15229, ...|\n",
      "|   474|                                     [21104, 43008, 64627, 59357, 49155, 49152, 59356, 41574, 5848, 50053, 49153, 49150]|\n",
      "|  1677|[60144, 23536, 21198, 43789, 64123, 32916, 20003, 23524, 39850, 30747, 6263, 58333, 979, 54879, 22706, 9961, 66874, 5...|\n",
      "|  1697|[60144, 12095, 29112, 32916, 1120, 20132, 53271, 62243, 20713, 23530, 67848, 41047, 36968, 3931, 29818, 14471, 48220,...|\n",
      "+------+------------------------------------------------------------------------------------------------------------------------+\n",
      "only showing top 5 rows\n",
      "\n"
     ]
    },
    {
     "name": "stderr",
     "output_type": "stream",
     "text": [
      "                                                                                \r"
     ]
    }
   ],
   "source": [
    "user_artists_sdf = events_filtered_popular_sdf.groupBy('userId').agg(F.collect_set('artistId').alias('artist_list'))\n",
    "user_artists_sdf.cache()\n",
    "user_artists_sdf.show(5, 120)"
   ]
  },
  {
   "cell_type": "code",
   "execution_count": 12,
   "metadata": {
    "tags": []
   },
   "outputs": [
    {
     "name": "stderr",
     "output_type": "stream",
     "text": [
      "[Stage 17:>                                                         (0 + 1) / 1]\r"
     ]
    },
    {
     "name": "stdout",
     "output_type": "stream",
     "text": [
      "+-------------+\n",
      "|pair         |\n",
      "+-------------+\n",
      "|[8202, 8202] |\n",
      "|[8202, 57876]|\n",
      "|[57876, 8202]|\n",
      "|[8202, 23578]|\n",
      "|[23578, 8202]|\n",
      "|[8202, 30747]|\n",
      "|[30747, 8202]|\n",
      "|[8202, 41506]|\n",
      "|[41506, 8202]|\n",
      "|[8202, 23080]|\n",
      "+-------------+\n",
      "only showing top 10 rows\n",
      "\n"
     ]
    },
    {
     "name": "stderr",
     "output_type": "stream",
     "text": [
      "                                                                                \r"
     ]
    }
   ],
   "source": [
    "user_artist_pairs_sdf = user_artists_sdf.withColumn('artist_pairs', pair_udf('artist_list')).select('artist_pairs')\n",
    "artist_pairs_exploded_sdf = user_artist_pairs_sdf.select(F.explode('artist_pairs').alias('pair'))\n",
    "\n",
    "artist_pairs_exploded_sdf.cache()\n",
    "artist_pairs_exploded_sdf.show(10, False)"
   ]
  },
  {
   "cell_type": "code",
   "execution_count": 13,
   "metadata": {
    "tags": []
   },
   "outputs": [
    {
     "name": "stderr",
     "output_type": "stream",
     "text": [
      "[Stage 22:>                                                         (0 + 1) / 1]\r"
     ]
    },
    {
     "name": "stdout",
     "output_type": "stream",
     "text": [
      "+--------------+-----+\n",
      "|pair          |count|\n",
      "+--------------+-----+\n",
      "|[8202, 32916] |16   |\n",
      "|[8202, 20186] |31   |\n",
      "|[41316, 8202] |23   |\n",
      "|[63160, 57876]|82   |\n",
      "|[51711, 57876]|47   |\n",
      "|[23578, 13903]|63   |\n",
      "|[30747, 45433]|174  |\n",
      "|[41506, 28346]|4    |\n",
      "|[30573, 41506]|2    |\n",
      "|[7216, 23080] |20   |\n",
      "+--------------+-----+\n",
      "only showing top 10 rows\n",
      "\n"
     ]
    },
    {
     "name": "stderr",
     "output_type": "stream",
     "text": [
      "                                                                                \r"
     ]
    }
   ],
   "source": [
    "pair_counts_sdf = artist_pairs_exploded_sdf.groupBy('pair').count()\n",
    "pair_counts_sdf.show(10, False)"
   ]
  },
  {
   "cell_type": "code",
   "execution_count": 14,
   "metadata": {
    "tags": []
   },
   "outputs": [
    {
     "name": "stderr",
     "output_type": "stream",
     "text": [
      "                                                                                \r"
     ]
    },
    {
     "data": {
      "text/plain": [
       "{45595: 63, 12534: 117, 7915: 750, 56710: 57, 26097: 63}"
      ]
     },
     "execution_count": 14,
     "metadata": {},
     "output_type": "execute_result"
    }
   ],
   "source": [
    "artist_counts_sdf = events_filtered_popular_sdf.groupBy('artistId').agg(F.countDistinct('userId').alias('count'))\n",
    "artist_counts_sdf.cache()\n",
    "artist_counts_sdf.count()\n",
    "\n",
    "artist_count_dict = {row['artistId']: row['count'] for row in artist_counts_sdf.collect()}\n",
    "sample_from_dict(artist_count_dict, 5)"
   ]
  },
  {
   "cell_type": "code",
   "execution_count": 15,
   "metadata": {
    "tags": []
   },
   "outputs": [
    {
     "name": "stderr",
     "output_type": "stream",
     "text": [
      "[Stage 34:=====================================================>(199 + 1) / 200]\r"
     ]
    },
    {
     "name": "stdout",
     "output_type": "stream",
     "text": [
      "+--------------+-----+--------------------+\n",
      "|pair          |count|jaccard             |\n",
      "+--------------+-----+--------------------+\n",
      "|[8202, 32916] |16   |0.0256              |\n",
      "|[8202, 20186] |31   |0.026863084922010397|\n",
      "|[41316, 8202] |23   |0.0344311377245509  |\n",
      "|[63160, 57876]|82   |0.07677902621722846 |\n",
      "|[51711, 57876]|47   |0.05147864184008762 |\n",
      "|[23578, 13903]|63   |0.05389221556886228 |\n",
      "|[30747, 45433]|174  |0.1673076923076923  |\n",
      "|[41506, 28346]|4    |0.018779342723004695|\n",
      "|[30573, 41506]|2    |0.010416666666666666|\n",
      "|[7216, 23080] |20   |0.03944773175542406 |\n",
      "+--------------+-----+--------------------+\n",
      "only showing top 10 rows\n",
      "\n"
     ]
    },
    {
     "name": "stderr",
     "output_type": "stream",
     "text": [
      "                                                                                \r"
     ]
    }
   ],
   "source": [
    "jaccard_similarity_sdf = pair_counts_sdf.withColumn('jaccard', jaccard_udf('pair', 'count'))\n",
    "jaccard_similarity_sdf.cache()\n",
    "jaccard_similarity_sdf.show(10, False)"
   ]
  },
  {
   "cell_type": "code",
   "execution_count": 16,
   "metadata": {
    "tags": []
   },
   "outputs": [
    {
     "name": "stderr",
     "output_type": "stream",
     "text": [
      "                                                                                \r"
     ]
    },
    {
     "data": {
      "text/plain": [
       "6838579"
      ]
     },
     "execution_count": 16,
     "metadata": {},
     "output_type": "execute_result"
    }
   ],
   "source": [
    "# Number of pairs with non-zero similarity\n",
    "q2 = jaccard_similarity_sdf.count()\n",
    "q2"
   ]
  },
  {
   "cell_type": "code",
   "execution_count": 17,
   "metadata": {
    "tags": []
   },
   "outputs": [
    {
     "data": {
      "text/plain": [
       "{53527: 'Casey James And The Staypuft Kid',\n",
       " 25206: 'A Silent Film',\n",
       " 23673: 'Richard Burton',\n",
       " 32921: 'The Kinsmen',\n",
       " 69739: 'Resonant Language'}"
      ]
     },
     "execution_count": 17,
     "metadata": {},
     "output_type": "execute_result"
    }
   ],
   "source": [
    "artist_to_name_dict = {row['artistId']: row['artistName'] for row in artists_sdf.collect()}\n",
    "sample_from_dict(artist_to_name_dict, 5)"
   ]
  },
  {
   "cell_type": "code",
   "execution_count": 18,
   "metadata": {
    "tags": []
   },
   "outputs": [
    {
     "data": {
      "text/plain": [
       "[46091, 48419]"
      ]
     },
     "execution_count": 18,
     "metadata": {},
     "output_type": "execute_result"
    }
   ],
   "source": [
    "tommy_cash_ids_lst = [row.artistId for row in artists_sdf.filter(artists_sdf.artistName == 'Tommy Cash').collect()]\n",
    "tommy_cash_ids_lst[:5]"
   ]
  },
  {
   "cell_type": "code",
   "execution_count": 19,
   "metadata": {
    "tags": []
   },
   "outputs": [
    {
     "name": "stderr",
     "output_type": "stream",
     "text": [
      "[Stage 50:=================================================>    (182 + 2) / 200]\r"
     ]
    },
    {
     "name": "stdout",
     "output_type": "stream",
     "text": [
      "+--------------+-----+-------------------+\n",
      "|pair          |count|jaccard            |\n",
      "+--------------+-----+-------------------+\n",
      "|[48419, 48419]|134  |1.0                |\n",
      "|[48419, 55471]|115  |0.1592797783933518 |\n",
      "|[48419, 46516]|46   |0.1488673139158576 |\n",
      "|[48419, 40001]|47   |0.14826498422712933|\n",
      "|[48419, 46604]|40   |0.13468013468013468|\n",
      "+--------------+-----+-------------------+\n",
      "only showing top 5 rows\n",
      "\n"
     ]
    },
    {
     "name": "stderr",
     "output_type": "stream",
     "text": [
      "                                                                                \r"
     ]
    }
   ],
   "source": [
    "# Find similar artists to \"Tommy Cash\"\n",
    "similar_to_tommy_sdf = (\n",
    "    jaccard_similarity_sdf\n",
    "    .filter(F.col('pair').getItem(0).isin(tommy_cash_ids_lst))\n",
    "    .orderBy(F.col('jaccard').desc())\n",
    ")\n",
    "similar_to_tommy_sdf.cache()\n",
    "similar_to_tommy_sdf.show(5, False)"
   ]
  },
  {
   "cell_type": "code",
   "execution_count": 20,
   "metadata": {
    "tags": []
   },
   "outputs": [
    {
     "name": "stdout",
     "output_type": "stream",
     "text": [
      "+--------------+-----+-------------------+\n",
      "|pair          |count|jaccard            |\n",
      "+--------------+-----+-------------------+\n",
      "|[48419, 55471]|115  |0.1592797783933518 |\n",
      "|[48419, 46516]|46   |0.1488673139158576 |\n",
      "|[48419, 40001]|47   |0.14826498422712933|\n",
      "|[48419, 46604]|40   |0.13468013468013468|\n",
      "|[48419, 52974]|63   |0.13097713097713098|\n",
      "+--------------+-----+-------------------+\n",
      "only showing top 5 rows\n",
      "\n"
     ]
    }
   ],
   "source": [
    "similar_to_tommy_sdf = similar_to_tommy_sdf.filter(~F.col('pair').getItem(1).isin(tommy_cash_ids_lst))\n",
    "similar_to_tommy_sdf.cache()\n",
    "similar_to_tommy_sdf.show(5, False)"
   ]
  },
  {
   "cell_type": "code",
   "execution_count": 21,
   "metadata": {
    "tags": []
   },
   "outputs": [
    {
     "data": {
      "text/plain": [
       "['Little Big',\n",
       " 'IC3PEAK',\n",
       " 'Die Antwoord',\n",
       " 'Пошлая Молли',\n",
       " 'Хлеб',\n",
       " 'The Hatters',\n",
       " 'Хаски',\n",
       " 'Boulevard Depo',\n",
       " 'Big Baby Tape',\n",
       " '$uicideboy$']"
      ]
     },
     "execution_count": 21,
     "metadata": {},
     "output_type": "execute_result"
    }
   ],
   "source": [
    "# Get the top 10 similar artists\n",
    "top10_similar_lst = similar_to_tommy_sdf.select('pair', 'jaccard').limit(10).collect()\n",
    "q3 = [artist_to_name_dict[row['pair'][1]] for row in top10_similar_lst]\n",
    "q3"
   ]
  },
  {
   "cell_type": "code",
   "execution_count": 22,
   "metadata": {
    "tags": []
   },
   "outputs": [
    {
     "name": "stdout",
     "output_type": "stream",
     "text": [
      "+--------+------------------------------------------------------------------------------------------------------------------------+\n",
      "|artistId|                                                                                                               user_list|\n",
      "+--------+------------------------------------------------------------------------------------------------------------------------+\n",
      "|    1806|[4647, 1453, 4845, 3604, 991, 1470, 2734, 2480, 4535, 152, 3927, 4021, 2376, 1389, 394, 373, 323, 1056, 1556, 3611, 5...|\n",
      "|    3091|[335, 2767, 2971, 3683, 125, 2688, 1803, 2507, 3219, 3546, 3577, 4108, 1487, 2932, 2170, 929, 1662, 2832, 2324, 4154,...|\n",
      "|   10156|[3042, 437, 793, 2644, 3123, 785, 3958, 2892, 2007, 635, 2842, 504, 4156, 3627, 48, 2734, 883, 4841, 3694, 123, 3288,...|\n",
      "|   11276|[3681, 2665, 2007, 3604, 1753, 3981, 3444, 3394, 2530, 4360, 48, 2734, 3090, 558, 3265, 1872, 21, 3084, 2984, 1410, 2...|\n",
      "|   11434|[3275, 3398, 3021, 4262, 1649, 31, 2128, 2361, 2463, 2, 1751, 4895, 4089, 2180, 329, 2617, 512, 1470, 606, 2690, 1289...|\n",
      "+--------+------------------------------------------------------------------------------------------------------------------------+\n",
      "only showing top 5 rows\n",
      "\n"
     ]
    }
   ],
   "source": [
    "artist_users_sdf = events_filtered_popular_sdf.groupBy('artistId').agg(F.collect_set('userId').alias('user_list'))\n",
    "artist_users_sdf.cache()\n",
    "artist_users_sdf.show(5, 120)"
   ]
  },
  {
   "cell_type": "code",
   "execution_count": 23,
   "metadata": {
    "tags": []
   },
   "outputs": [],
   "source": [
    "hashingTF = HashingTF(inputCol=\"user_list\", outputCol=\"features\")\n",
    "minHashLSH = MinHashLSH(inputCol=\"features\", outputCol=\"hashes\", numHashTables=20, seed=57)\n",
    "pipeline = Pipeline(stages=[hashingTF, minHashLSH])\n",
    "model = pipeline.fit(artist_users_sdf)"
   ]
  },
  {
   "cell_type": "code",
   "execution_count": 24,
   "metadata": {
    "tags": []
   },
   "outputs": [
    {
     "name": "stderr",
     "output_type": "stream",
     "text": [
      "[Stage 63:>                                                         (0 + 1) / 1]\r"
     ]
    },
    {
     "name": "stdout",
     "output_type": "stream",
     "text": [
      "+--------+--------------------------------------------------------------------------------+--------------------------------------------------------------------------------+--------------------------------------------------------------------------------+\n",
      "|artistId|                                                                       user_list|                                                                        features|                                                                          hashes|\n",
      "+--------+--------------------------------------------------------------------------------+--------------------------------------------------------------------------------+--------------------------------------------------------------------------------+\n",
      "|    1806|[4647, 1453, 4845, 3604, 991, 1470, 2734, 2480, 4535, 152, 3927, 4021, 2376, ...|(262144,[6345,7547,12618,15920,25102,29077,33734,34471,37953,39049,44986,4536...|[[4.5799304E7], [2.8116252E7], [3.6689259E7], [4.3558038E7], [1.7995036E7], [...|\n",
      "|    3091|[335, 2767, 2971, 3683, 125, 2688, 1803, 2507, 3219, 3546, 3577, 4108, 1487, ...|(262144,[283,2491,13052,14896,15478,16112,23470,27750,34003,37294,37626,39206...|[[6629628.0], [2.9070455E7], [1.0296003E7], [1.4959083E7], [1.4014371E7], [65...|\n",
      "|   10156|[3042, 437, 793, 2644, 3123, 785, 3958, 2892, 2007, 635, 2842, 504, 4156, 362...|(262144,[1141,1396,2075,2128,2311,2379,2407,2567,2665,2825,3381,3923,4488,465...|[[1495579.0], [497453.0], [2802910.0], [454429.0], [661544.0], [213790.0], [6...|\n",
      "|   11276|[3681, 2665, 2007, 3604, 1753, 3981, 3444, 3394, 2530, 4360, 48, 2734, 3090, ...|(262144,[4386,4655,5456,7493,8286,9112,10473,13949,15112,18809,26554,28578,29...|[[5.7854579E7], [2.204484E7], [1.7114496E7], [2.120581E7], [3.9457886E7], [1....|\n",
      "|   11434|[3275, 3398, 3021, 4262, 1649, 31, 2128, 2361, 2463, 2, 1751, 4895, 4089, 218...|(262144,[259,3593,4757,6819,7149,7438,8235,8438,9684,10473,10977,15406,18799,...|[[1.8017931E7], [3.6460028E7], [5583559.0], [2.5306581E7], [2.9565758E7], [1....|\n",
      "+--------+--------------------------------------------------------------------------------+--------------------------------------------------------------------------------+--------------------------------------------------------------------------------+\n",
      "only showing top 5 rows\n",
      "\n"
     ]
    },
    {
     "name": "stderr",
     "output_type": "stream",
     "text": [
      "                                                                                \r"
     ]
    }
   ],
   "source": [
    "artist_users_hashed_sdf = model.transform(artist_users_sdf)\n",
    "artist_users_hashed_sdf.cache()\n",
    "artist_users_hashed_sdf.show(5, 80)"
   ]
  },
  {
   "cell_type": "code",
   "execution_count": 25,
   "metadata": {
    "tags": []
   },
   "outputs": [
    {
     "name": "stderr",
     "output_type": "stream",
     "text": [
      "[Stage 73:===========================================>            (58 + 2) / 75]\r"
     ]
    },
    {
     "name": "stdout",
     "output_type": "stream",
     "text": [
      "+--------+--------------------------------------------------------------------------------+--------------------------------------------------------------------------------+--------------------------------------------------------------------------------+\n",
      "|artistId|                                                                       user_list|                                                                        features|                                                                          hashes|\n",
      "+--------+--------------------------------------------------------------------------------+--------------------------------------------------------------------------------+--------------------------------------------------------------------------------+\n",
      "|   48419|[2644, 2157, 3733, 387, 227, 2769, 4062, 2211, 2538, 3881, 1187, 3090, 4768, ...|(262144,[327,4105,4259,4386,6020,6810,8631,9062,10545,11543,14117,17282,22745...|[[6799900.0], [1.3465895E7], [2.6221751E7], [3825278.0], [661544.0], [817180....|\n",
      "+--------+--------------------------------------------------------------------------------+--------------------------------------------------------------------------------+--------------------------------------------------------------------------------+\n",
      "\n"
     ]
    },
    {
     "name": "stderr",
     "output_type": "stream",
     "text": [
      "                                                                                \r"
     ]
    }
   ],
   "source": [
    "tommy_cash_features_sdf = artist_users_hashed_sdf.filter(artist_users_hashed_sdf.artistId.isin(tommy_cash_ids_lst))\n",
    "tommy_cash_features_sdf.cache()\n",
    "tommy_cash_features_sdf.show(5, 80)"
   ]
  },
  {
   "cell_type": "code",
   "execution_count": 26,
   "metadata": {
    "tags": []
   },
   "outputs": [
    {
     "name": "stderr",
     "output_type": "stream",
     "text": [
      "[Stage 79:============================================>         (166 + 2) / 200]\r"
     ]
    },
    {
     "name": "stdout",
     "output_type": "stream",
     "text": [
      "+--------+------------------+\n",
      "|artistId|JaccardDistance   |\n",
      "+--------+------------------+\n",
      "|55471   |0.8407202216066482|\n",
      "|46516   |0.8511326860841424|\n",
      "|40001   |0.8512658227848101|\n",
      "|46604   |0.8648648648648649|\n",
      "|52974   |0.86875           |\n",
      "+--------+------------------+\n",
      "only showing top 5 rows\n",
      "\n"
     ]
    },
    {
     "name": "stderr",
     "output_type": "stream",
     "text": [
      "                                                                                \r"
     ]
    }
   ],
   "source": [
    "similar_lsh_sdf = (\n",
    "    model\n",
    "    .stages[-1]\n",
    "    .approxSimilarityJoin(\n",
    "        tommy_cash_features_sdf,\n",
    "        artist_users_hashed_sdf,\n",
    "        0.95,\n",
    "        distCol=\"JaccardDistance\"\n",
    "    ).select(\n",
    "        F.col(\"datasetB.artistId\").alias(\"artistId\"),\n",
    "        F.col(\"JaccardDistance\")\n",
    "    )\n",
    "    .filter(~F.col('artistId').isin(tommy_cash_ids_lst))\n",
    "    .distinct()\n",
    "    .orderBy(F.col('JaccardDistance'))\n",
    ")\n",
    "\n",
    "similar_lsh_sdf.cache()\n",
    "similar_lsh_sdf.show(5, False)"
   ]
  },
  {
   "cell_type": "code",
   "execution_count": 27,
   "metadata": {
    "tags": []
   },
   "outputs": [
    {
     "data": {
      "text/plain": [
       "['Little Big',\n",
       " 'IC3PEAK',\n",
       " 'Die Antwoord',\n",
       " 'Пошлая Молли',\n",
       " 'Хлеб',\n",
       " 'The Hatters',\n",
       " 'Хаски',\n",
       " 'Big Baby Tape',\n",
       " '$uicideboy$',\n",
       " 'GONE.Fludd']"
      ]
     },
     "execution_count": 27,
     "metadata": {},
     "output_type": "execute_result"
    }
   ],
   "source": [
    "# Get the top 10 similar artists\n",
    "top10_similar_lsh_sdf = similar_lsh_sdf.limit(10).collect()\n",
    "q4 = [artist_to_name_dict[row['artistId']] for row in top10_similar_lsh_sdf]\n",
    "q4"
   ]
  },
  {
   "cell_type": "code",
   "execution_count": 28,
   "metadata": {
    "tags": []
   },
   "outputs": [
    {
     "data": {
      "text/plain": [
       "{'q1': 2889,\n",
       " 'q2': 6838579,\n",
       " 'q3': ['Little Big',\n",
       "  'IC3PEAK',\n",
       "  'Die Antwoord',\n",
       "  'Пошлая Молли',\n",
       "  'Хлеб',\n",
       "  'The Hatters',\n",
       "  'Хаски',\n",
       "  'Boulevard Depo',\n",
       "  'Big Baby Tape',\n",
       "  '$uicideboy$'],\n",
       " 'q4': ['Little Big',\n",
       "  'IC3PEAK',\n",
       "  'Die Antwoord',\n",
       "  'Пошлая Молли',\n",
       "  'Хлеб',\n",
       "  'The Hatters',\n",
       "  'Хаски',\n",
       "  'Big Baby Tape',\n",
       "  '$uicideboy$',\n",
       "  'GONE.Fludd']}"
      ]
     },
     "execution_count": 28,
     "metadata": {},
     "output_type": "execute_result"
    }
   ],
   "source": [
    "result = {\n",
    "    \"q1\": q1,\n",
    "    \"q2\": q2,\n",
    "    \"q3\": q3,\n",
    "    \"q4\": q4\n",
    "}\n",
    "\n",
    "result"
   ]
  },
  {
   "cell_type": "code",
   "execution_count": 29,
   "metadata": {
    "tags": []
   },
   "outputs": [
    {
     "name": "stdout",
     "output_type": "stream",
     "text": [
      "--- 267.03494358062744 seconds ---\n"
     ]
    }
   ],
   "source": [
    "end_time = time.time()\n",
    "print(\"--- %s seconds ---\" % (end_time - start_time))"
   ]
  },
  {
   "cell_type": "code",
   "execution_count": 30,
   "metadata": {
    "tags": []
   },
   "outputs": [],
   "source": [
    "with open('result.json', 'w') as f:\n",
    "    json.dump(result, f)"
   ]
  },
  {
   "cell_type": "code",
   "execution_count": 31,
   "metadata": {
    "tags": []
   },
   "outputs": [
    {
     "name": "stdout",
     "output_type": "stream",
     "text": [
      "1.0\n",
      "Correct q1 answer! Correct q2 answer! Correct q3 answer! Correct q4 answer!\n"
     ]
    }
   ],
   "source": [
    "! curl -F file=@result.json 51.250.123.136:80/MDS-LSML1/rkulkov/w6/1"
   ]
  }
 ],
 "metadata": {
  "coursera": {
   "schema_names": [
    "lab-task-5a2a5e"
   ]
  },
  "kernelspec": {
   "display_name": "Python 3 (ipykernel)",
   "language": "python",
   "name": "python3"
  },
  "language_info": {
   "codemirror_mode": {
    "name": "ipython",
    "version": 3
   },
   "file_extension": ".py",
   "mimetype": "text/x-python",
   "name": "python",
   "nbconvert_exporter": "python",
   "pygments_lexer": "ipython3",
   "version": "3.10.9"
  },
  "vscode": {
   "interpreter": {
    "hash": "5f4626d50a060da4b47e18776c852ab1c193f00f2162881a84608752df882344"
   }
  }
 },
 "nbformat": 4,
 "nbformat_minor": 4
}
